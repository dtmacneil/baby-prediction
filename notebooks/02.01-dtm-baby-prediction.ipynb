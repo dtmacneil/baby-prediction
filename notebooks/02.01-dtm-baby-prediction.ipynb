{
 "cells": [
  {
   "cell_type": "markdown",
   "id": "1e1575e2",
   "metadata": {},
   "source": [
    "# Baby Predictions"
   ]
  },
  {
   "cell_type": "markdown",
   "id": "27d50ed5",
   "metadata": {},
   "source": [
    "Sister is pregnant, thought it would be interesting to try to predict due date and the baby's weight.\n",
    "\n",
    "Found the CDC public dataset [National Center for Health Statistics / Birth Data](https://www.cdc.gov/nchs/data_access/VitalStatsOnline.htm#Births):\n",
    "* Trusted agency supplying reliable data with clear documentation and transparency providing confidence\n",
    "* Already anonymised meaning I didn't have to worry about exposing sensistive information, while at the person level there is no identifying information\n",
    "* Data is available for research and analytical use, see [Data User Agreement](https://www.cdc.gov/nchs/policy/data-user-agreement.html)\n",
    "\n",
    "Independent Variables\n",
    "\n",
    "|Source Name|Feature|Rationale|\n",
    "|-|-|-|\n",
    "|MAGER|mother_age_yrs|Younger mothers may be more likely to have a shorter gestation|\n",
    "|TBO_REC| previous_pregnancies_cnt |First time pregnancies may be more likely to have a shorter gestation|\n",
    "|ILLB_R|interval_since_last_live_birth_mths||\n",
    "|CIG_0|cigarettes_pre_daily_cnt|Smoking is know to affect fetal development, could cause shorter gestation and lighter birth weight|\n",
    "|CIG_1|cigarettes_1st_daily_cnt||\n",
    "|CIG_2|cigarettes_2nd_daily_cnt||\n",
    "|CIG_3|cigarettes_3rd_daily_cnt||\n",
    "|CIG_REC|is_smoker||\n",
    "|BMI|mother_pre_bmi|Mothers size may affect the size of the baby|\n",
    "|RF_PPTERM|previous_pre_term_birth|Mothers with previous premature births may be more likely to further shorter pregnancies and therefore smaller babies|"
   ]
  },
  {
   "cell_type": "markdown",
   "id": "5a6fbdc9",
   "metadata": {},
   "source": [
    "## Set-up"
   ]
  },
  {
   "cell_type": "code",
   "execution_count": null,
   "id": "338543da",
   "metadata": {},
   "outputs": [],
   "source": [
    "# import standard packages\n",
    "import json\n",
    "from matplotlib import colors\n",
    "import numpy as np\n",
    "import pandas as pd\n",
    "import plotly.graph_objects as go\n",
    "import plotly.express as px\n",
    "from scipy import stats\n",
    "import seaborn as sns\n",
    "from sklearn.ensemble import RandomForestRegressor\n",
    "from sklearn.linear_model import LinearRegression\n",
    "from sklearn.metrics import root_mean_squared_error, r2_score\n",
    "from sklearn.model_selection import train_test_split"
   ]
  },
  {
   "cell_type": "code",
   "execution_count": null,
   "id": "c99c173c",
   "metadata": {},
   "outputs": [],
   "source": [
    "width = 800\n",
    "height = 500"
   ]
  },
  {
   "cell_type": "markdown",
   "id": "8371b25d",
   "metadata": {},
   "source": [
    "## Load data"
   ]
  },
  {
   "cell_type": "code",
   "execution_count": null,
   "id": "aa521505",
   "metadata": {},
   "outputs": [],
   "source": [
    "# data stored in fixed width, loading schema defining where to split data\n",
    "with open(\"../references/schema.json\") as f:\n",
    "    schema = json.load(f)\n",
    "    f.close()\n",
    "\n",
    "# definition lists position according to documentation but needs\n",
    "# to be corrected to half-intervals for pandas\n",
    "for k, v in schema.items():\n",
    "    v = list(v.split(\",\"))\n",
    "    v[0] = int(v[0]) - 1\n",
    "    v[1] = int(v[1])\n",
    "    schema[k] = tuple(v)"
   ]
  },
  {
   "cell_type": "code",
   "execution_count": null,
   "id": "26d9db34",
   "metadata": {},
   "outputs": [],
   "source": [
    "# define the features of interest\n",
    "with open(\"../references/features.json\") as f:\n",
    "    features = json.load(f)\n",
    "    f.close()"
   ]
  },
  {
   "cell_type": "code",
   "execution_count": null,
   "id": "bbd0a504",
   "metadata": {},
   "outputs": [],
   "source": [
    "# if you have and want to use the full source file uncommment these variables and pd.read_fwf nrows kwarg\n",
    "# path = \"../data/raw/Nat2024PublicUS.c20250512.r20250708.txt\"\n",
    "# sample_size = 100000\n",
    "\n",
    "# using the already sampled file\n",
    "path = \"../data/interim/Nat2024PublicUS.c20250512.r20250708_sample.txt\"\n",
    "\n",
    "# read in the data\n",
    "df = pd.read_fwf(\n",
    "    path,\n",
    "    colspecs = list(schema.values()),\n",
    "    # nrows = sample_size,\n",
    "    header = None,\n",
    "    names = list(schema.keys()),\n",
    "    usecols = list(features.keys())\n",
    ")\n",
    "\n",
    "# rename fields for readability\n",
    "df.rename(\n",
    "    columns = features,\n",
    "    inplace = True\n",
    ")"
   ]
  },
  {
   "cell_type": "markdown",
   "id": "b520fd5c",
   "metadata": {},
   "source": [
    "## Cleaning & Preparing"
   ]
  },
  {
   "cell_type": "code",
   "execution_count": null,
   "id": "645a18ce",
   "metadata": {},
   "outputs": [],
   "source": [
    "# split into train and test sets\n",
    "df_train, df_test = train_test_split(\n",
    "    df,\n",
    "    train_size = 0.8,\n",
    "    random_state = 42\n",
    ")"
   ]
  },
  {
   "cell_type": "code",
   "execution_count": null,
   "id": "5511aac4",
   "metadata": {},
   "outputs": [],
   "source": [
    "# what have we got overall?\n",
    "df_train.info(verbose = True, show_counts = True)"
   ]
  },
  {
   "cell_type": "code",
   "execution_count": null,
   "id": "a60034ac",
   "metadata": {},
   "outputs": [],
   "source": [
    "df_train.head()"
   ]
  },
  {
   "cell_type": "markdown",
   "id": "dfa48eba",
   "metadata": {},
   "source": [
    "No missing data and a mix of categorial and numeric data as expected from user guide."
   ]
  },
  {
   "cell_type": "markdown",
   "id": "f61abd4b",
   "metadata": {},
   "source": [
    "### Unknown"
   ]
  },
  {
   "cell_type": "markdown",
   "id": "a98fdc35",
   "metadata": {},
   "source": [
    "According the guidance document columns where the value is unknown by definition will be encoded with 99-9999 or \"U\" depending on the scale and data type of the column.\n",
    "\n",
    "To determine how to treat let's first evaluate how prevalent this is."
   ]
  },
  {
   "cell_type": "code",
   "execution_count": null,
   "id": "e0102dca",
   "metadata": {},
   "outputs": [],
   "source": [
    "# how many rows have unknown values?\n",
    "display(\n",
    "    df_train\n",
    "    .melt()\n",
    "    .query(\"`value` == 99 or `value` == 99.9 or `value` == 999 or `value` == 9999 or `value` == 'U'\")\n",
    "    .groupby(\"variable\")\n",
    "    .agg(\n",
    "        unknown_cnt = (\"value\", \"count\")\n",
    "    )\n",
    "    .assign(\n",
    "        records_cnt = len(df_train),\n",
    "        unknown_pct = lambda x: x[\"unknown_cnt\"] / x[\"records_cnt\"]\n",
    "    )\n",
    "    .style.format({\n",
    "        \"unknown_cnt\" : \"{:,.0f}\",\n",
    "        \"records_cnt\" : \"{:,.0f}\",\n",
    "        \"unknown_pct\" : \"{:,.1%}\"\n",
    "    })\n",
    ")"
   ]
  },
  {
   "cell_type": "markdown",
   "id": "ee085fa5",
   "metadata": {},
   "source": [
    "By column unknowns are not a significant proportion and overall I'd still expect a fraction to be affected. Well above the minimum sample size needed, let's exclude these records."
   ]
  },
  {
   "cell_type": "code",
   "execution_count": null,
   "id": "d2848d78",
   "metadata": {},
   "outputs": [],
   "source": [
    "def func_remove_unknowns(dataframe: pd.DataFrame):\n",
    "    \"\"\"Removes rows with at least one unknown value in any column.\n",
    "    Returns:\n",
    "        Dataframe\n",
    "    \"\"\"\n",
    "    mask = (\n",
    "        (dataframe[dataframe.columns] != 99).all(axis = 1)\n",
    "        & (dataframe[dataframe.columns] != 99.9).all(axis = 1)\n",
    "        & (dataframe[dataframe.columns] != 999).all(axis = 1)\n",
    "        & (dataframe[dataframe.columns] != 9999).all(axis = 1)\n",
    "        & (dataframe[dataframe.columns] != \"U\").all(axis = 1)\n",
    "    )\n",
    "\n",
    "    return dataframe.loc[mask, :]"
   ]
  },
  {
   "cell_type": "code",
   "execution_count": null,
   "id": "e831e3a9",
   "metadata": {},
   "outputs": [],
   "source": [
    "df_train = func_remove_unknowns(df_train)\n",
    "df_train.info()"
   ]
  },
  {
   "cell_type": "markdown",
   "id": "ffaa4fdf",
   "metadata": {},
   "source": [
    "### Categorial Encoding"
   ]
  },
  {
   "cell_type": "code",
   "execution_count": null,
   "id": "de8738a6",
   "metadata": {},
   "outputs": [],
   "source": [
    "# categorical data\n",
    "def func_categorical_to_dummies(dataframe: pd.DataFrame):\n",
    "    \"\"\"Encodes all categorical columns (based on data type).\n",
    "    Drops original columns.\n",
    "    Returns:\n",
    "        Dataframe\n",
    "    \"\"\"\n",
    "    dataframe = pd.get_dummies(\n",
    "        data = dataframe,\n",
    "        columns = dataframe.select_dtypes(object).columns,\n",
    "        drop_first = True\n",
    "    )\n",
    "    return dataframe\n",
    "\n",
    "df_train = func_categorical_to_dummies(df_train)\n",
    "\n",
    "df_train.head()"
   ]
  },
  {
   "cell_type": "code",
   "execution_count": null,
   "id": "76423dbd",
   "metadata": {},
   "outputs": [],
   "source": [
    "# what are the summary statistics?\n",
    "df_train.describe().transpose()"
   ]
  },
  {
   "cell_type": "markdown",
   "id": "04b1c011",
   "metadata": {},
   "source": [
    "`interval_since_last_live_birth_mths` has a maximum value of 888 present and a minimum of 3.\n",
    "\n",
    "Checking the user guide definitions\n",
    "* 0-3 - 'Plural delivery'\n",
    "* 888 - 'Not applicable / 1st natality event'\n",
    "\n",
    "Need to decide how to treat both these scenarios."
   ]
  },
  {
   "cell_type": "markdown",
   "id": "821a0df1",
   "metadata": {},
   "source": [
    "### Previous Pregnancies, Birth Intervals and First Birth"
   ]
  },
  {
   "cell_type": "code",
   "execution_count": null,
   "id": "3aa91be9",
   "metadata": {},
   "outputs": [],
   "source": [
    "# how many records have an unknown birth interval?\n",
    "display(\n",
    "    df_train\n",
    "    .assign(\n",
    "        is_na = lambda x: (x[\"interval_since_last_live_birth_mths\"] == 888)\n",
    "    )\n",
    "    .pivot_table(\n",
    "        index = \"previous_pregnancies_cnt\",\n",
    "        columns = \"is_na\",\n",
    "        values = \"mother_age_yrs\",\n",
    "        aggfunc = \"count\",\n",
    "        dropna = False,\n",
    "        fill_value = 0,\n",
    "        margins = True\n",
    "    )\n",
    ")"
   ]
  },
  {
   "cell_type": "markdown",
   "id": "ef9dad11",
   "metadata": {},
   "source": [
    "Majority of not applicable intervals are concentrated with a `previous_pregnancies_cnt` of 1. Checking user guide if the record is the mother's first birth it is included in the count. This makes sense as if it is a mother's first pregnancy, there is no previous birth to count against.\n",
    "\n",
    "888 is not a meaningful value and linear regression requires non null values. Instead let's replace these values with the mother's age in months - effectively their age is the interval since their last birth.\n",
    "\n",
    "Additionally, given the distribution it may be useful to add a feature designating whether the record is a first birth or not."
   ]
  },
  {
   "cell_type": "code",
   "execution_count": null,
   "id": "1d72b2d3",
   "metadata": {},
   "outputs": [],
   "source": [
    "# how many plural births?\n",
    "display(\n",
    "    df_train\n",
    "    .assign(\n",
    "        is_multiple = lambda x: (x[\"interval_since_last_live_birth_mths\"] <= 3)\n",
    "    )\n",
    "    .pivot_table(\n",
    "        index = \"is_multiple\",\n",
    "        values = \"mother_age_yrs\",\n",
    "        aggfunc = \"count\",\n",
    "        dropna = False,\n",
    "        fill_value = 0,\n",
    "        margins = True\n",
    "    )\n",
    "    .style.format(\"{:0,.0f}\")\n",
    ")"
   ]
  },
  {
   "cell_type": "markdown",
   "id": "469dfd8f",
   "metadata": {},
   "source": [
    "Majority of births are single and in addition the scope of the project is for single births only, as such will exclude these records."
   ]
  },
  {
   "cell_type": "code",
   "execution_count": null,
   "id": "3b522ec3",
   "metadata": {},
   "outputs": [],
   "source": [
    "def func_add_is_first_birth(dataframe: pd.DataFrame):\n",
    "    \"\"\"Adds a column flagging whether the record is a first birth, based on the number of previous pregnancies.\"\"\"\n",
    "    dataframe[\"is_first_birth\"] =  dataframe[\"previous_pregnancies_cnt\"] == 1\n",
    "    return dataframe"
   ]
  },
  {
   "cell_type": "code",
   "execution_count": null,
   "id": "f7c91f89",
   "metadata": {},
   "outputs": [],
   "source": [
    "df_train = func_add_is_first_birth(df_train)"
   ]
  },
  {
   "cell_type": "code",
   "execution_count": null,
   "id": "255bfbe1",
   "metadata": {},
   "outputs": [],
   "source": [
    "def func_remove_na_intervals(dataframe: pd.DataFrame):\n",
    "    \"\"\"Excludes records which have an unknown birth interval or plural births but are not the first birth.\"\"\"\n",
    "    mask = (\n",
    "        (dataframe[\"previous_pregnancies_cnt\"] != 1)\n",
    "        & (\n",
    "            (dataframe[\"interval_since_last_live_birth_mths\"] == 888)\n",
    "            | (dataframe[\"interval_since_last_live_birth_mths\"] <= 3)\n",
    "        )\n",
    "    )\n",
    "    dataframe = dataframe.loc[~mask, :]\n",
    "    return dataframe"
   ]
  },
  {
   "cell_type": "code",
   "execution_count": null,
   "id": "d46a2391",
   "metadata": {},
   "outputs": [],
   "source": [
    "df_train = func_remove_na_intervals(df_train)"
   ]
  },
  {
   "cell_type": "code",
   "execution_count": null,
   "id": "64f1503b",
   "metadata": {},
   "outputs": [],
   "source": [
    "def func_replace_first_birth_interval(dataframe: pd.DataFrame):\n",
    "    \"\"\"For first births replaces n/a value with mothers age in months.\"\"\"\n",
    "    conditions = [\n",
    "        dataframe[\"interval_since_last_live_birth_mths\"] == 888\n",
    "    ]\n",
    "\n",
    "    values = [\n",
    "        dataframe[\"mother_age_yrs\"] * 12\n",
    "    ]\n",
    "\n",
    "    dataframe[\"interval_since_last_live_birth_mths\"] = np.select(\n",
    "        conditions,\n",
    "        values,\n",
    "        default = dataframe[\"interval_since_last_live_birth_mths\"]\n",
    "    )\n",
    "    return dataframe"
   ]
  },
  {
   "cell_type": "code",
   "execution_count": null,
   "id": "365d71fb",
   "metadata": {},
   "outputs": [],
   "source": [
    "df_train = func_replace_first_birth_interval(df_train)"
   ]
  },
  {
   "cell_type": "code",
   "execution_count": null,
   "id": "e7ac73d2",
   "metadata": {},
   "outputs": [],
   "source": [
    "df_train.info()"
   ]
  },
  {
   "cell_type": "markdown",
   "id": "928f968a",
   "metadata": {},
   "source": [
    "### Distributions"
   ]
  },
  {
   "cell_type": "code",
   "execution_count": null,
   "id": "c125e927",
   "metadata": {},
   "outputs": [],
   "source": [
    "def func_basic_histogram(feature):\n",
    "    fig = px.histogram(\n",
    "        df_train,\n",
    "        x = feature,\n",
    "        marginal = \"box\"\n",
    "    )\n",
    "\n",
    "    fig.update_layout(\n",
    "        title = f\"Distribution of {feature}\",\n",
    "        width = width,\n",
    "        height = height\n",
    "    )\n",
    "\n",
    "    fig.show()"
   ]
  },
  {
   "cell_type": "code",
   "execution_count": null,
   "id": "1355f331",
   "metadata": {},
   "outputs": [],
   "source": [
    "# plot each features distribution\n",
    "for c in df_train.columns:\n",
    "    func_basic_histogram(c)"
   ]
  },
  {
   "cell_type": "markdown",
   "id": "ce778faf",
   "metadata": {},
   "source": [
    "Observations:\n",
    "* `mother_age_yrs` - normally distributed and looks to be few outliers. Trust the accuracy of measurement so will not modify.\n",
    "* `previous_pregnancies_cnt` - decaying distributions, will log transform to support the linear regression model.\n",
    "* `interval_since_last_live_birth_mths` - complex distribution with two elements; a Possion form in the low range and a normal distribution in the mid to high range, likely from where the values were replaced by the mother's age. Let's see if a random forest model can determine a pattern, will not modify.\n",
    "* `cigarettes_pre/1st/2nd/3rd_daily_cnt` - concentrated on zero. Possibly because attitudes to smoking have changed, behaviour change when a mother realises their pregnant or under-reporting due to social perception. Highly biased and with numeric values suspect a model will struggle to differentiate. Will remove columns because of this and rely on `is_smoker_Y` which is slightly less biased.\n",
    "* `mother_pre_bmi` - mostly normal distribution with a long tail of high BMI values. Suspect this is because the dataset is sourced entirely from America which is known to have some of the highest obesity rates in the world. As trying to predict generally will exclude upper limit outliers.\n",
    "* `combined_gestation_wks` - normal distribution and depedendent variable, will not modify.\n",
    "* `baby_weight_g` - normal distribution and depedendent variable, will not modify. Note there are some peaks around specific values, expect this is a measurement error due to rounding to convenient or easy to remember values.\n",
    "* `is_smoker_Y` - based to False but lets see if random forest can determine, will not modify.\n",
    "* `previous_pre_term_birth_Y` - based to false but lets see if random forest can determine, will not modify.\n",
    "* `previs_first_birth` - slight bias to false, will not modify."
   ]
  },
  {
   "cell_type": "code",
   "execution_count": null,
   "id": "9851274a",
   "metadata": {},
   "outputs": [],
   "source": [
    "def func_remove_columns(dataframe):\n",
    "    \"\"\"Remove unneccessary cigarette consumption columns.\"\"\"\n",
    "    dataframe.drop(\n",
    "        columns = [\"cigarettes_pre_daily_cnt\", \"cigarettes_1st_daily_cnt\", \"cigarettes_2nd_daily_cnt\", \"cigarettes_3rd_daily_cnt\"],\n",
    "        inplace = True \n",
    "    )\n",
    "    return dataframe"
   ]
  },
  {
   "cell_type": "code",
   "execution_count": null,
   "id": "f105f603",
   "metadata": {},
   "outputs": [],
   "source": [
    "df_train = func_remove_columns(df_train)"
   ]
  },
  {
   "cell_type": "code",
   "execution_count": null,
   "id": "3f1b63da",
   "metadata": {},
   "outputs": [],
   "source": [
    "def func_log_transform(dataframe):\n",
    "    \"\"\"Log transform previous pregnancies\"\"\"\n",
    "    dataframe[\"previous_pregnancies_cnt\"] = np.log(dataframe[\"previous_pregnancies_cnt\"])\n",
    "    return dataframe"
   ]
  },
  {
   "cell_type": "code",
   "execution_count": null,
   "id": "8de1a194",
   "metadata": {},
   "outputs": [],
   "source": [
    "df_train = func_log_transform(df_train)"
   ]
  },
  {
   "cell_type": "code",
   "execution_count": null,
   "id": "5f3e7867",
   "metadata": {},
   "outputs": [],
   "source": [
    "# treat outliers\n",
    "# dictionary to store limits per column for re-use\n",
    "outlier_limits = {}\n",
    "\n",
    "# define columns to define limits\n",
    "outlier_features = [\"mother_pre_bmi\"]\n",
    "\n",
    "# define limits for each column and store\n",
    "for outlier in outlier_features:\n",
    "    q1 = df_train[outlier].quantile(0.25)\n",
    "    q3 = df_train[outlier].quantile(0.75)\n",
    "    iqr = q3 - q1\n",
    "    upper_limit = q3 + (1.5 * iqr)\n",
    "    lower_limit = q1 - (1.5 * iqr)\n",
    "    outlier_limits.update({\n",
    "        outlier : {\n",
    "            \"upper_limit\" : upper_limit,\n",
    "            \"lower_limit\" : lower_limit\n",
    "        }\n",
    "    })"
   ]
  },
  {
   "cell_type": "code",
   "execution_count": null,
   "id": "52d6cc46",
   "metadata": {},
   "outputs": [],
   "source": [
    "def func_exclude_outliers(outlier_limits, dataframe):\n",
    "    \"\"\"Exclude outlier values\"\"\"\n",
    "    for k, v in outlier_limits.items():\n",
    "        mask = (\n",
    "            dataframe[k].between(v[\"lower_limit\"], v[\"upper_limit\"], \"both\")\n",
    "        )\n",
    "        dataframe = dataframe.loc[mask, :]\n",
    "    return dataframe"
   ]
  },
  {
   "cell_type": "markdown",
   "id": "cfc25596",
   "metadata": {},
   "source": [
    "## Analysis"
   ]
  },
  {
   "cell_type": "code",
   "execution_count": null,
   "id": "251688bd",
   "metadata": {},
   "outputs": [],
   "source": [
    "# final summary statistics\n",
    "df_train.describe(include=[int, float, bool]).round(2).transpose()"
   ]
  },
  {
   "cell_type": "markdown",
   "id": "8b476320",
   "metadata": {},
   "source": [
    "In training data mean baby weight is 3.25kg with a standard deviation of 0.55kg - can the prediction model beat the standard deviation for accuracy?"
   ]
  },
  {
   "cell_type": "markdown",
   "id": "059bf14b",
   "metadata": {},
   "source": [
    "### Numeric values"
   ]
  },
  {
   "cell_type": "code",
   "execution_count": null,
   "id": "e4239c29",
   "metadata": {},
   "outputs": [],
   "source": [
    "# using a pearson test of correlation of numeric\n",
    "rho = df_train.select_dtypes([int, float]).corr(method = \"pearson\")\n",
    "pval = df_train.select_dtypes([int, float]).corr(method = lambda x, y: stats.pearsonr(x, y)[1])"
   ]
  },
  {
   "cell_type": "code",
   "execution_count": null,
   "id": "19b49d2d",
   "metadata": {},
   "outputs": [],
   "source": [
    "display(\n",
    "    pval\n",
    "    .style\n",
    "    .format(\"{:.2f}\")\n",
    "    .background_gradient(cmap='Reds')\n",
    "    .set_table_styles([\n",
    "        {\"selector\": \"th\", \"props\" :[('max-width', '100px'), (\"word-break\", \"break-all\")]},\n",
    "        {\"selector\": \"td\", \"props\": \"text-align : center\"},\n",
    "    ])\n",
    ")"
   ]
  },
  {
   "cell_type": "code",
   "execution_count": null,
   "id": "8c88c251",
   "metadata": {},
   "outputs": [],
   "source": [
    "cm = sns.diverging_palette(250, 250, as_cmap=True)\n",
    "divnorm = colors.TwoSlopeNorm(vmin=rho.values.min(), vcenter=0, vmax=rho.values.max())\n",
    "\n",
    "display(\n",
    "    rho\n",
    "    .style\n",
    "    .format(\"{:.3f}\")\n",
    "    .background_gradient(cmap=cm, axis = None, gmap=rho.apply(divnorm))\n",
    "    .set_table_styles([\n",
    "        {\"selector\": \"th\", \"props\" :[('max-width', '100px'), (\"word-break\", \"break-all\")]},\n",
    "        {\"selector\": \"td\", \"props\": \"text-align : center\"},\n",
    "    ])\n",
    ")"
   ]
  },
  {
   "cell_type": "markdown",
   "id": "f7a4de3d",
   "metadata": {},
   "source": [
    "All correlations coefficients are statsically significant and not due to random chance.\n",
    "\n",
    "For `combined_gestation_wks` all the correlations with the independent variables are very weak; the largest has a vlaue of -0.067.\n",
    "\n",
    "For `baby_weight_g` the strongest correlation is with `combined_gestation_wks`. This makes sense as the longer the baby has gestating the more weight it can gain."
   ]
  },
  {
   "cell_type": "markdown",
   "id": "afa7fc32",
   "metadata": {},
   "source": [
    "### Boolean"
   ]
  },
  {
   "cell_type": "code",
   "execution_count": null,
   "id": "839b9993",
   "metadata": {},
   "outputs": [],
   "source": [
    "# using a spearman test of correlation\n",
    "columns = df_train.select_dtypes([bool]).columns.to_list() + [\"combined_gestation_wks\", \"baby_weight_g\"]\n",
    "\n",
    "rho = df_train[columns].corr(method = \"spearman\")\n",
    "pval = df_train[columns].corr(method = lambda x, y: stats.spearmanr(x, y)[1])"
   ]
  },
  {
   "cell_type": "code",
   "execution_count": null,
   "id": "21ff8ab3",
   "metadata": {},
   "outputs": [],
   "source": [
    "display(\n",
    "    pval\n",
    "    .style\n",
    "    .format(\"{:.2f}\")\n",
    "    .background_gradient(cmap='Reds')\n",
    "    .set_table_styles([\n",
    "        {\"selector\": \"th\", \"props\" :[('max-width', '100px'), (\"word-break\", \"break-all\")]},\n",
    "        {\"selector\": \"td\", \"props\": \"text-align : center\"},\n",
    "    ])\n",
    ")"
   ]
  },
  {
   "cell_type": "code",
   "execution_count": null,
   "id": "7e338dfb",
   "metadata": {},
   "outputs": [],
   "source": [
    "cm = sns.diverging_palette(250, 250, as_cmap=True)\n",
    "divnorm = colors.TwoSlopeNorm(vmin=rho.values.min(), vcenter=0, vmax=rho.values.max())\n",
    "\n",
    "display(\n",
    "    rho\n",
    "    .style\n",
    "    .format(\"{:.3f}\")\n",
    "    .background_gradient(cmap=cm, axis = None, gmap=rho.apply(divnorm))\n",
    "    .set_table_styles([\n",
    "        {\"selector\": \"th\", \"props\" :[('max-width', '100px'), (\"word-break\", \"break-all\")]},\n",
    "        {\"selector\": \"td\", \"props\": \"text-align : center\"},\n",
    "    ])\n",
    ")"
   ]
  },
  {
   "cell_type": "markdown",
   "id": "2bce8fa9",
   "metadata": {},
   "source": [
    "Again very low correlation coefficients for `combined_gestation_wks` and `baby_weight_g`."
   ]
  },
  {
   "cell_type": "code",
   "execution_count": null,
   "id": "7f936828",
   "metadata": {},
   "outputs": [],
   "source": [
    "fig = px.scatter(\n",
    "    df_train,\n",
    "    x = \"combined_gestation_wks\",\n",
    "    y = \"baby_weight_g\"\n",
    ")\n",
    "\n",
    "fig.update_layout(\n",
    "    title = \"How does gestation length and baby weight relate?\",\n",
    "    width = width,\n",
    "    height = height\n",
    ")\n",
    "\n",
    "fig.show()"
   ]
  },
  {
   "cell_type": "markdown",
   "id": "92dc288d",
   "metadata": {},
   "source": [
    "## Birth Weight Prediction"
   ]
  },
  {
   "cell_type": "markdown",
   "id": "db64f2a1",
   "metadata": {},
   "source": [
    "Given the very low correlation coefficients between the identified independent and dependent variables the chosen approach is use only `combination_gestation_wks` as an independent variable for the linear regressor and a random forest regressor. A random forest regressor will be used with all the original indepedent variables in case it can idenitfy more complex patterns.\n",
    "\n",
    "Models to compare:\n",
    "1. Linear - `combination_gestation_wks` only\n",
    "2. Random forest - all independent variables\n",
    "3. Random forest - `combination_gestation_wks` only"
   ]
  },
  {
   "cell_type": "code",
   "execution_count": null,
   "id": "2d74eea8",
   "metadata": {},
   "outputs": [],
   "source": [
    "# apply transformation steps to test data\n",
    "# this model will only be able to predict for known measurements\n",
    "df_test = func_remove_unknowns(df_test)\n",
    "df_test = func_remove_na_intervals(df_test)\n",
    "\n",
    "# feature additions and transformations\n",
    "# outliers will not be removed as this is the test data\n",
    "df_test = func_categorical_to_dummies(df_test)\n",
    "df_test = func_add_is_first_birth(df_test)\n",
    "df_test = func_replace_first_birth_interval(df_test)\n",
    "df_test = func_remove_columns(df_test)\n",
    "df_test = func_log_transform(df_test)"
   ]
  },
  {
   "cell_type": "markdown",
   "id": "3cf443bf",
   "metadata": {},
   "source": [
    "### Linear Model"
   ]
  },
  {
   "cell_type": "code",
   "execution_count": null,
   "id": "e3835474",
   "metadata": {},
   "outputs": [],
   "source": [
    "independent_vars = [\"combined_gestation_wks\"]\n",
    "dependent_var = \"baby_weight_g\"\n",
    "\n",
    "ln_regr = LinearRegression()\n",
    "ln_regr.fit(df_train[independent_vars], df_train[dependent_var])"
   ]
  },
  {
   "cell_type": "code",
   "execution_count": null,
   "id": "1d67084d",
   "metadata": {},
   "outputs": [],
   "source": [
    "print(f\"Coefficient is: {ln_regr.coef_[0] : 0,.3f}\\nIntercept is: {ln_regr.intercept_ : 0,.3f}\")"
   ]
  },
  {
   "cell_type": "code",
   "execution_count": null,
   "id": "d864fcae",
   "metadata": {},
   "outputs": [],
   "source": [
    "# generate a prediction\n",
    "y_pred = ln_regr.predict(df_test[independent_vars])"
   ]
  },
  {
   "cell_type": "code",
   "execution_count": null,
   "id": "f396773d",
   "metadata": {},
   "outputs": [],
   "source": [
    "# evaluating model\n",
    "rmse = root_mean_squared_error(\n",
    "    y_true = df_test[\"baby_weight_g\"],\n",
    "    y_pred = y_pred\n",
    ")\n",
    "\n",
    "\n",
    "r_squared = r2_score(\n",
    "    y_true = df_test[\"baby_weight_g\"],\n",
    "    y_pred = y_pred\n",
    ")\n",
    "\n",
    "print(f\"Liner regression error metrics\\nRoot mean squared error of {rmse:.3f}\\nR-squared of: {r_squared: .3f}\")"
   ]
  },
  {
   "cell_type": "markdown",
   "id": "1d278411",
   "metadata": {},
   "source": [
    "### Random Forest Model"
   ]
  },
  {
   "cell_type": "markdown",
   "id": "2da3ee47",
   "metadata": {},
   "source": [
    "#### All independent"
   ]
  },
  {
   "cell_type": "code",
   "execution_count": null,
   "id": "8be166e3",
   "metadata": {},
   "outputs": [],
   "source": [
    "independent_vars = [\n",
    "    \"combined_gestation_wks\",\n",
    "    \"interval_since_last_live_birth_mths\",\n",
    "    \"is_first_birth\",\n",
    "    \"is_smoker_Y\",\n",
    "    \"mother_age_yrs\",\n",
    "    \"mother_pre_bmi\",\n",
    "    \"previous_pregnancies_cnt\",\n",
    "    \"previous_pre_term_birth_Y\"\n",
    "]\n",
    "dependent_var = \"baby_weight_g\"\n",
    "\n",
    "rf_rgr_all = RandomForestRegressor()\n",
    "rf_rgr_all.fit(\n",
    "    X = df_train[independent_vars],\n",
    "    y = df_train[dependent_var]\n",
    ")"
   ]
  },
  {
   "cell_type": "code",
   "execution_count": null,
   "id": "6856c5ea",
   "metadata": {},
   "outputs": [],
   "source": [
    "y_pred = rf_rgr_all.predict(df_test[independent_vars])"
   ]
  },
  {
   "cell_type": "code",
   "execution_count": null,
   "id": "dff1dbc5",
   "metadata": {},
   "outputs": [],
   "source": [
    "# evaluating model\n",
    "rmse = root_mean_squared_error(\n",
    "    y_true = df_test[\"baby_weight_g\"],\n",
    "    y_pred = y_pred\n",
    ")\n",
    "\n",
    "\n",
    "r_squared = r2_score(\n",
    "    y_true = df_test[\"baby_weight_g\"],\n",
    "    y_pred = y_pred\n",
    ")\n",
    "\n",
    "print(f\"Random Forest error metrics\\nRoot mean squared error of {rmse:.3f}\\nR-squared of: {r_squared: .3f}\")"
   ]
  },
  {
   "cell_type": "markdown",
   "id": "b4d25a0a",
   "metadata": {},
   "source": [
    "#### Single independent variable"
   ]
  },
  {
   "cell_type": "code",
   "execution_count": null,
   "id": "39614646",
   "metadata": {},
   "outputs": [],
   "source": [
    "independent_vars = [\"combined_gestation_wks\"]\n",
    "dependent_var = \"baby_weight_g\"\n",
    "\n",
    "rf_rgr_one = RandomForestRegressor()\n",
    "rf_rgr_one.fit(\n",
    "    X = df_train[independent_vars],\n",
    "    y = df_train[dependent_var]\n",
    ")"
   ]
  },
  {
   "cell_type": "code",
   "execution_count": null,
   "id": "833ad6b1",
   "metadata": {},
   "outputs": [],
   "source": [
    "y_pred = rf_rgr_one.predict(df_test[independent_vars])"
   ]
  },
  {
   "cell_type": "code",
   "execution_count": null,
   "id": "422c4afc",
   "metadata": {},
   "outputs": [],
   "source": [
    "# evaluating model\n",
    "rmse = root_mean_squared_error(\n",
    "    y_true = df_test[\"baby_weight_g\"],\n",
    "    y_pred = y_pred\n",
    ")\n",
    "\n",
    "\n",
    "r_squared = r2_score(\n",
    "    y_true = df_test[\"baby_weight_g\"],\n",
    "    y_pred = y_pred\n",
    ")\n",
    "\n",
    "print(f\"Random Forest error metrics\\nRoot mean squared error of {rmse:.3f}\\nR-squared of: {r_squared: .3f}\")"
   ]
  },
  {
   "cell_type": "markdown",
   "id": "a8939751",
   "metadata": {},
   "source": [
    "### Comparison"
   ]
  },
  {
   "cell_type": "markdown",
   "id": "30cc31aa",
   "metadata": {},
   "source": [
    "Summarising the model scores:\n",
    "\n",
    "|Model|Independent Variables|RMSE| R<sup>2</sup> |\n",
    "|-|-|-|-|\n",
    "|Linear|1|489.91|0.21|\n",
    "|Random Forest|8|501.91|0.17|\n",
    "|Random Forest|1|476.05|0.25|\n",
    "\n",
    "The random forest model just using `combined_gestation_wks` produced the best predictions. However, the fit is still much lower than desired. Likely this is due to the variation in the data and the accuracy of measurements. For example, gestation period is recorded at the week level not the day level."
   ]
  },
  {
   "cell_type": "markdown",
   "id": "76be9b16",
   "metadata": {},
   "source": [
    "## Final Prediction"
   ]
  },
  {
   "cell_type": "code",
   "execution_count": null,
   "id": "60a68cce",
   "metadata": {},
   "outputs": [],
   "source": [
    "# generate a prediction using the single variable random forest\n",
    "pred_data = pd.DataFrame(\n",
    "    data = [df_test[\"combined_gestation_wks\"].median()],\n",
    "    columns = [\"combined_gestation_wks\"]\n",
    ")\n",
    "\n",
    "prediction = rf_rgr_one.predict(pred_data)\n",
    "print(f\"Predicted baby weight: {prediction[0]:0,.0f}g\")"
   ]
  },
  {
   "cell_type": "code",
   "execution_count": null,
   "id": "a7465ff8",
   "metadata": {},
   "outputs": [],
   "source": [
    "print(f\"Error in prediction as a percentage: {rmse / prediction[0]: 0,.1%}\")"
   ]
  },
  {
   "cell_type": "code",
   "execution_count": null,
   "id": "823f9314",
   "metadata": {},
   "outputs": [],
   "source": [
    "print(f\"Predictions based on test data standard statistics\\nMedian weight: {df_test[\"baby_weight_g\"].median(): 0,.0f}g\\nMean weight: {df_test[\"baby_weight_g\"].mean():0,.0f}g\")"
   ]
  },
  {
   "cell_type": "code",
   "execution_count": null,
   "id": "1f65ea75",
   "metadata": {},
   "outputs": [],
   "source": [
    "fig = px.scatter(\n",
    "    df_test,\n",
    "    x = \"combined_gestation_wks\",\n",
    "    y = \"baby_weight_g\"\n",
    ")\n",
    "\n",
    "pred_data = pd.DataFrame(\n",
    "    data = range(20,48, 1),\n",
    "    columns = [\"combined_gestation_wks\"]\n",
    ")\n",
    "\n",
    "prediction = rf_rgr_one.predict(pred_data)\n",
    "\n",
    "fig.add_trace(go.Scatter(\n",
    "    x = pred_data[\"combined_gestation_wks\"],\n",
    "    y = prediction,\n",
    "    name = \"prediction\"\n",
    "))\n",
    "\n",
    "fig.update_layout(\n",
    "    title = \"Prediction versus training data\",\n",
    "    width = width,\n",
    "    height = height\n",
    ")\n",
    "\n",
    "fig.show()"
   ]
  },
  {
   "cell_type": "markdown",
   "id": "656ee53e",
   "metadata": {},
   "source": [
    "## Conclusion"
   ]
  },
  {
   "cell_type": "markdown",
   "id": "2063da4e",
   "metadata": {},
   "source": [
    "Gestation duration, and therefore due date, can't be predicted from the independent variables identified. Overall it's concluded that these factors don't impact the gestation period.\n",
    "\n",
    "Gestation duration can be used to predicted birth weight. There is a high spread in weights but the model was able to predict a result with an RMSE less than the standard deviation. From the plot we can see that, outside the extreme low weight values, the random forest model followed the positive correlation until around the median gestation when weight appears to drop slightly.\n",
    "\n",
    "Next steps could include:\n",
    "* Exploring other features in the dataset for influcence e.g. use of infertility treatments\n",
    "* Finding new datasets that include more detailed measurements e.g. fetus length or head size at key intervals"
   ]
  }
 ],
 "metadata": {
  "kernelspec": {
   "display_name": "regression",
   "language": "python",
   "name": "python3"
  },
  "language_info": {
   "codemirror_mode": {
    "name": "ipython",
    "version": 3
   },
   "file_extension": ".py",
   "mimetype": "text/x-python",
   "name": "python",
   "nbconvert_exporter": "python",
   "pygments_lexer": "ipython3",
   "version": "3.13.2"
  }
 },
 "nbformat": 4,
 "nbformat_minor": 5
}
