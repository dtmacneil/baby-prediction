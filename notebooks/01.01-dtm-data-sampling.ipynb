{
 "cells": [
  {
   "cell_type": "markdown",
   "id": "ccd0f105",
   "metadata": {},
   "source": [
    "# Data Sampling"
   ]
  },
  {
   "cell_type": "markdown",
   "id": "fd96793f",
   "metadata": {},
   "source": [
    "According to the [UserGuide2024.pdf](../references/UserGuide2024.pdf) the text file contains 3,638,436 rows. Very large and for processing time and GitHub file limits will need to sample and work with a smaller set.\n",
    "\n",
    "Need to:\n",
    "1. Check whether there is any date ordering in the files i.e. if the first n rows are sampled will that only cover early 2024\n",
    "2. Take a sample of the file"
   ]
  },
  {
   "cell_type": "code",
   "execution_count": 1,
   "id": "8afd036c",
   "metadata": {},
   "outputs": [],
   "source": [
    "# import standard packages\n",
    "import numpy as np\n",
    "import json\n",
    "import pandas as pd\n",
    "import plotly.express as px"
   ]
  },
  {
   "cell_type": "code",
   "execution_count": 2,
   "id": "804ebb33",
   "metadata": {},
   "outputs": [],
   "source": [
    "path = \"../data/raw/Nat2024PublicUS.c20250512.r20250708.txt\"\n",
    "sample_size = 100000"
   ]
  },
  {
   "cell_type": "markdown",
   "id": "065bef12",
   "metadata": {},
   "source": [
    "## Date ordering"
   ]
  },
  {
   "cell_type": "code",
   "execution_count": 3,
   "id": "6ced4c97",
   "metadata": {},
   "outputs": [],
   "source": [
    "# data stored in fixed width, loading schema defining where to split data\n",
    "with open(\"../references/schema.json\") as f:\n",
    "    schema = json.load(f)\n",
    "    f.close()\n",
    "\n",
    "# definition lists position according to documentation but needs\n",
    "# to be corrected to half-intervals for pandas\n",
    "for k, v in schema.items():\n",
    "    v = list(v.split(\",\"))\n",
    "    v[0] = int(v[0]) - 1\n",
    "    v[1] = int(v[1])\n",
    "    schema[k] = tuple(v)"
   ]
  },
  {
   "cell_type": "code",
   "execution_count": 4,
   "id": "dfbdd59a",
   "metadata": {},
   "outputs": [],
   "source": [
    "# read in the data\n",
    "df = pd.read_fwf(\n",
    "    path,\n",
    "    colspecs = list(schema.values()),\n",
    "    nrows = sample_size,\n",
    "    header = None,\n",
    "    names = list(schema.keys()),\n",
    "    usecols = [\"DOB_MM\"] # for speed only read the month column to see distribution\n",
    ")"
   ]
  },
  {
   "cell_type": "code",
   "execution_count": 5,
   "id": "27ff4c6f",
   "metadata": {},
   "outputs": [
    {
     "name": "stdout",
     "output_type": "stream",
     "text": [
      "<class 'pandas.core.frame.DataFrame'>\n",
      "RangeIndex: 100000 entries, 0 to 99999\n",
      "Data columns (total 1 columns):\n",
      " #   Column  Non-Null Count   Dtype\n",
      "---  ------  --------------   -----\n",
      " 0   DOB_MM  100000 non-null  int64\n",
      "dtypes: int64(1)\n",
      "memory usage: 781.4 KB\n"
     ]
    }
   ],
   "source": [
    "# check\n",
    "df.info()"
   ]
  },
  {
   "cell_type": "code",
   "execution_count": 6,
   "id": "9deb33e5",
   "metadata": {},
   "outputs": [
    {
     "data": {
      "text/plain": [
       "DOB_MM\n",
       "1     8642\n",
       "2     7836\n",
       "3     7992\n",
       "4     7903\n",
       "5     8223\n",
       "6     7835\n",
       "7     8852\n",
       "8     9044\n",
       "9     8522\n",
       "10    8608\n",
       "11    7829\n",
       "12    8714\n",
       "dtype: int64"
      ]
     },
     "execution_count": 6,
     "metadata": {},
     "output_type": "execute_result"
    }
   ],
   "source": [
    "# what is the distribution by month?\n",
    "df.groupby(\"DOB_MM\").size()"
   ]
  },
  {
   "cell_type": "markdown",
   "id": "87c60289",
   "metadata": {},
   "source": [
    "There looks to be a relatively even distribution of months in the first 100,000 rows. Let's proceed with this sample."
   ]
  },
  {
   "cell_type": "markdown",
   "id": "d97b52cf",
   "metadata": {},
   "source": [
    "## Extract sample"
   ]
  },
  {
   "cell_type": "code",
   "execution_count": 7,
   "id": "6d092f90",
   "metadata": {},
   "outputs": [],
   "source": [
    "with open(path) as input_file:\n",
    "    head = [next(input_file) for _ in range(sample_size)]\n",
    "    input_file.close()"
   ]
  },
  {
   "cell_type": "code",
   "execution_count": null,
   "id": "f247cc65",
   "metadata": {},
   "outputs": [],
   "source": [
    "# by convention sampled data should be stored in /data/interm as semi-processed\n",
    "output_path = path.replace(\"raw\", \"interim\")\n",
    "output_path = output_path.replace(\".txt\", \"_sample.txt\")\n",
    "\n",
    "with open(output_path, \"a\") as f:\n",
    "    f.writelines(head)\n",
    "    f.close()"
   ]
  }
 ],
 "metadata": {
  "kernelspec": {
   "display_name": "regression",
   "language": "python",
   "name": "python3"
  },
  "language_info": {
   "codemirror_mode": {
    "name": "ipython",
    "version": 3
   },
   "file_extension": ".py",
   "mimetype": "text/x-python",
   "name": "python",
   "nbconvert_exporter": "python",
   "pygments_lexer": "ipython3",
   "version": "3.13.2"
  }
 },
 "nbformat": 4,
 "nbformat_minor": 5
}
